{
  "nbformat": 4,
  "nbformat_minor": 0,
  "metadata": {
    "colab": {
      "provenance": [],
      "include_colab_link": true
    },
    "kernelspec": {
      "name": "python3",
      "display_name": "Python 3"
    },
    "language_info": {
      "name": "python"
    }
  },
  "cells": [
    {
      "cell_type": "markdown",
      "metadata": {
        "id": "view-in-github",
        "colab_type": "text"
      },
      "source": [
        "<a href=\"https://colab.research.google.com/github/farisazizy/Bank-Marketing-EDA/blob/main/GG_3_0_Module_5_Day_1_Data_Cleansing_Exploration_Participant_Worksheet.ipynb\" target=\"_parent\"><img src=\"https://colab.research.google.com/assets/colab-badge.svg\" alt=\"Open In Colab\"/></a>"
      ]
    },
    {
      "cell_type": "markdown",
      "source": [
        "# Introduction\n",
        "\n",
        "- In this notebook, we are going to learn to deal with marketing dataset. our goal is to extract insight through data exploration focusing on marketing metrics.\n",
        "\n",
        "- We are going to use `bank-additional-full-alt.csv` for this module.\n",
        "\n",
        "- The dataset can be obtained from this website:\n",
        "  https://archive.ics.uci.edu/dataset/222/bank+marketing"
      ],
      "metadata": {
        "id": "Vt7xesz5APFj"
      }
    },
    {
      "cell_type": "markdown",
      "source": [
        "# Import Libraries"
      ],
      "metadata": {
        "id": "AX4ScA_oAG43"
      }
    },
    {
      "cell_type": "code",
      "execution_count": 1,
      "metadata": {
        "id": "AfUm3VSEl8sL"
      },
      "outputs": [],
      "source": [
        "import numpy as np\n",
        "import pandas as pd\n",
        "\n",
        "from matplotlib import pyplot as plt\n",
        "import seaborn as sns"
      ]
    },
    {
      "cell_type": "markdown",
      "source": [
        "These variables are going to be the main focus to calculate customer engagement:\n",
        "  \n",
        "  1. `contact`:\n",
        "    - Represents the contact communication type, such as cellular, telephone, or unknown. It captures the method of contact made by the bank to engage with customers.\n",
        "  \n",
        "  2. `month`:\n",
        "    - Indicates the month of the last contact with the customer. It provides information on the timing of the engagement.\n",
        "  \n",
        "  3. `day_of_week`:\n",
        "    - Represents the day of the week of the last contact. It offers insights into the specific days when customers were engaged."
      ],
      "metadata": {
        "id": "4snsju1Vmvbq"
      }
    },
    {
      "cell_type": "markdown",
      "source": [
        "# Import Data"
      ],
      "metadata": {
        "id": "ofzhwLQABsL3"
      }
    },
    {
      "cell_type": "code",
      "source": [
        "df = pd.read_csv(\"https://raw.githubusercontent.com/binggas/public-dataset/main/bank%2Bmarketing/bank-additional/bank-additional-full-alt.csv\")\n",
        "df.head()"
      ],
      "metadata": {
        "id": "pW46CFPongdL",
        "colab": {
          "base_uri": "https://localhost:8080/",
          "height": 236
        },
        "outputId": "3b3e92c8-0bf7-45f9-f1ed-5856c25a8811"
      },
      "execution_count": 2,
      "outputs": [
        {
          "output_type": "execute_result",
          "data": {
            "text/plain": [
              "   age        job  marital    education  default housing loan    contact  \\\n",
              "0   56  housemaid  married     basic.4y       no      no   no  telephone   \n",
              "1   57   services  married  high.school  unknown      no   no  telephone   \n",
              "2   37   services  married  high.school       no     yes   no  telephone   \n",
              "3   40     admin.  married     basic.6y       no      no   no  telephone   \n",
              "4   56   services  married  high.school       no      no  yes  telephone   \n",
              "\n",
              "  month day_of_week  ...  campaign  pdays  previous     poutcome emp_var_rate  \\\n",
              "0   may         mon  ...         1    999         0  nonexistent          1.1   \n",
              "1   may         mon  ...         1    999         0  nonexistent          1.1   \n",
              "2   may         mon  ...         1    999         0  nonexistent          1.1   \n",
              "3   may         mon  ...         1    999         0  nonexistent          1.1   \n",
              "4   may         mon  ...         1    999         0  nonexistent          1.1   \n",
              "\n",
              "   cons_price_idx  cons_conf_idx  euribor3m  nr_employed   y  \n",
              "0          93.994          -36.4      4.857       5191.0  no  \n",
              "1          93.994          -36.4      4.857       5191.0  no  \n",
              "2          93.994          -36.4      4.857       5191.0  no  \n",
              "3          93.994          -36.4      4.857       5191.0  no  \n",
              "4          93.994          -36.4      4.857       5191.0  no  \n",
              "\n",
              "[5 rows x 21 columns]"
            ],
            "text/html": [
              "\n",
              "\n",
              "  <div id=\"df-6c261b06-7cc4-45b7-8504-ff52e533975e\">\n",
              "    <div class=\"colab-df-container\">\n",
              "      <div>\n",
              "<style scoped>\n",
              "    .dataframe tbody tr th:only-of-type {\n",
              "        vertical-align: middle;\n",
              "    }\n",
              "\n",
              "    .dataframe tbody tr th {\n",
              "        vertical-align: top;\n",
              "    }\n",
              "\n",
              "    .dataframe thead th {\n",
              "        text-align: right;\n",
              "    }\n",
              "</style>\n",
              "<table border=\"1\" class=\"dataframe\">\n",
              "  <thead>\n",
              "    <tr style=\"text-align: right;\">\n",
              "      <th></th>\n",
              "      <th>age</th>\n",
              "      <th>job</th>\n",
              "      <th>marital</th>\n",
              "      <th>education</th>\n",
              "      <th>default</th>\n",
              "      <th>housing</th>\n",
              "      <th>loan</th>\n",
              "      <th>contact</th>\n",
              "      <th>month</th>\n",
              "      <th>day_of_week</th>\n",
              "      <th>...</th>\n",
              "      <th>campaign</th>\n",
              "      <th>pdays</th>\n",
              "      <th>previous</th>\n",
              "      <th>poutcome</th>\n",
              "      <th>emp_var_rate</th>\n",
              "      <th>cons_price_idx</th>\n",
              "      <th>cons_conf_idx</th>\n",
              "      <th>euribor3m</th>\n",
              "      <th>nr_employed</th>\n",
              "      <th>y</th>\n",
              "    </tr>\n",
              "  </thead>\n",
              "  <tbody>\n",
              "    <tr>\n",
              "      <th>0</th>\n",
              "      <td>56</td>\n",
              "      <td>housemaid</td>\n",
              "      <td>married</td>\n",
              "      <td>basic.4y</td>\n",
              "      <td>no</td>\n",
              "      <td>no</td>\n",
              "      <td>no</td>\n",
              "      <td>telephone</td>\n",
              "      <td>may</td>\n",
              "      <td>mon</td>\n",
              "      <td>...</td>\n",
              "      <td>1</td>\n",
              "      <td>999</td>\n",
              "      <td>0</td>\n",
              "      <td>nonexistent</td>\n",
              "      <td>1.1</td>\n",
              "      <td>93.994</td>\n",
              "      <td>-36.4</td>\n",
              "      <td>4.857</td>\n",
              "      <td>5191.0</td>\n",
              "      <td>no</td>\n",
              "    </tr>\n",
              "    <tr>\n",
              "      <th>1</th>\n",
              "      <td>57</td>\n",
              "      <td>services</td>\n",
              "      <td>married</td>\n",
              "      <td>high.school</td>\n",
              "      <td>unknown</td>\n",
              "      <td>no</td>\n",
              "      <td>no</td>\n",
              "      <td>telephone</td>\n",
              "      <td>may</td>\n",
              "      <td>mon</td>\n",
              "      <td>...</td>\n",
              "      <td>1</td>\n",
              "      <td>999</td>\n",
              "      <td>0</td>\n",
              "      <td>nonexistent</td>\n",
              "      <td>1.1</td>\n",
              "      <td>93.994</td>\n",
              "      <td>-36.4</td>\n",
              "      <td>4.857</td>\n",
              "      <td>5191.0</td>\n",
              "      <td>no</td>\n",
              "    </tr>\n",
              "    <tr>\n",
              "      <th>2</th>\n",
              "      <td>37</td>\n",
              "      <td>services</td>\n",
              "      <td>married</td>\n",
              "      <td>high.school</td>\n",
              "      <td>no</td>\n",
              "      <td>yes</td>\n",
              "      <td>no</td>\n",
              "      <td>telephone</td>\n",
              "      <td>may</td>\n",
              "      <td>mon</td>\n",
              "      <td>...</td>\n",
              "      <td>1</td>\n",
              "      <td>999</td>\n",
              "      <td>0</td>\n",
              "      <td>nonexistent</td>\n",
              "      <td>1.1</td>\n",
              "      <td>93.994</td>\n",
              "      <td>-36.4</td>\n",
              "      <td>4.857</td>\n",
              "      <td>5191.0</td>\n",
              "      <td>no</td>\n",
              "    </tr>\n",
              "    <tr>\n",
              "      <th>3</th>\n",
              "      <td>40</td>\n",
              "      <td>admin.</td>\n",
              "      <td>married</td>\n",
              "      <td>basic.6y</td>\n",
              "      <td>no</td>\n",
              "      <td>no</td>\n",
              "      <td>no</td>\n",
              "      <td>telephone</td>\n",
              "      <td>may</td>\n",
              "      <td>mon</td>\n",
              "      <td>...</td>\n",
              "      <td>1</td>\n",
              "      <td>999</td>\n",
              "      <td>0</td>\n",
              "      <td>nonexistent</td>\n",
              "      <td>1.1</td>\n",
              "      <td>93.994</td>\n",
              "      <td>-36.4</td>\n",
              "      <td>4.857</td>\n",
              "      <td>5191.0</td>\n",
              "      <td>no</td>\n",
              "    </tr>\n",
              "    <tr>\n",
              "      <th>4</th>\n",
              "      <td>56</td>\n",
              "      <td>services</td>\n",
              "      <td>married</td>\n",
              "      <td>high.school</td>\n",
              "      <td>no</td>\n",
              "      <td>no</td>\n",
              "      <td>yes</td>\n",
              "      <td>telephone</td>\n",
              "      <td>may</td>\n",
              "      <td>mon</td>\n",
              "      <td>...</td>\n",
              "      <td>1</td>\n",
              "      <td>999</td>\n",
              "      <td>0</td>\n",
              "      <td>nonexistent</td>\n",
              "      <td>1.1</td>\n",
              "      <td>93.994</td>\n",
              "      <td>-36.4</td>\n",
              "      <td>4.857</td>\n",
              "      <td>5191.0</td>\n",
              "      <td>no</td>\n",
              "    </tr>\n",
              "  </tbody>\n",
              "</table>\n",
              "<p>5 rows × 21 columns</p>\n",
              "</div>\n",
              "      <button class=\"colab-df-convert\" onclick=\"convertToInteractive('df-6c261b06-7cc4-45b7-8504-ff52e533975e')\"\n",
              "              title=\"Convert this dataframe to an interactive table.\"\n",
              "              style=\"display:none;\">\n",
              "\n",
              "  <svg xmlns=\"http://www.w3.org/2000/svg\" height=\"24px\"viewBox=\"0 0 24 24\"\n",
              "       width=\"24px\">\n",
              "    <path d=\"M0 0h24v24H0V0z\" fill=\"none\"/>\n",
              "    <path d=\"M18.56 5.44l.94 2.06.94-2.06 2.06-.94-2.06-.94-.94-2.06-.94 2.06-2.06.94zm-11 1L8.5 8.5l.94-2.06 2.06-.94-2.06-.94L8.5 2.5l-.94 2.06-2.06.94zm10 10l.94 2.06.94-2.06 2.06-.94-2.06-.94-.94-2.06-.94 2.06-2.06.94z\"/><path d=\"M17.41 7.96l-1.37-1.37c-.4-.4-.92-.59-1.43-.59-.52 0-1.04.2-1.43.59L10.3 9.45l-7.72 7.72c-.78.78-.78 2.05 0 2.83L4 21.41c.39.39.9.59 1.41.59.51 0 1.02-.2 1.41-.59l7.78-7.78 2.81-2.81c.8-.78.8-2.07 0-2.86zM5.41 20L4 18.59l7.72-7.72 1.47 1.35L5.41 20z\"/>\n",
              "  </svg>\n",
              "      </button>\n",
              "\n",
              "\n",
              "\n",
              "    <div id=\"df-1452a601-790f-427a-b66d-e06fa0c88647\">\n",
              "      <button class=\"colab-df-quickchart\" onclick=\"quickchart('df-1452a601-790f-427a-b66d-e06fa0c88647')\"\n",
              "              title=\"Suggest charts.\"\n",
              "              style=\"display:none;\">\n",
              "\n",
              "<svg xmlns=\"http://www.w3.org/2000/svg\" height=\"24px\"viewBox=\"0 0 24 24\"\n",
              "     width=\"24px\">\n",
              "    <g>\n",
              "        <path d=\"M19 3H5c-1.1 0-2 .9-2 2v14c0 1.1.9 2 2 2h14c1.1 0 2-.9 2-2V5c0-1.1-.9-2-2-2zM9 17H7v-7h2v7zm4 0h-2V7h2v10zm4 0h-2v-4h2v4z\"/>\n",
              "    </g>\n",
              "</svg>\n",
              "      </button>\n",
              "    </div>\n",
              "\n",
              "<style>\n",
              "  .colab-df-quickchart {\n",
              "    background-color: #E8F0FE;\n",
              "    border: none;\n",
              "    border-radius: 50%;\n",
              "    cursor: pointer;\n",
              "    display: none;\n",
              "    fill: #1967D2;\n",
              "    height: 32px;\n",
              "    padding: 0 0 0 0;\n",
              "    width: 32px;\n",
              "  }\n",
              "\n",
              "  .colab-df-quickchart:hover {\n",
              "    background-color: #E2EBFA;\n",
              "    box-shadow: 0px 1px 2px rgba(60, 64, 67, 0.3), 0px 1px 3px 1px rgba(60, 64, 67, 0.15);\n",
              "    fill: #174EA6;\n",
              "  }\n",
              "\n",
              "  [theme=dark] .colab-df-quickchart {\n",
              "    background-color: #3B4455;\n",
              "    fill: #D2E3FC;\n",
              "  }\n",
              "\n",
              "  [theme=dark] .colab-df-quickchart:hover {\n",
              "    background-color: #434B5C;\n",
              "    box-shadow: 0px 1px 3px 1px rgba(0, 0, 0, 0.15);\n",
              "    filter: drop-shadow(0px 1px 2px rgba(0, 0, 0, 0.3));\n",
              "    fill: #FFFFFF;\n",
              "  }\n",
              "</style>\n",
              "\n",
              "    <script>\n",
              "      async function quickchart(key) {\n",
              "        const containerElement = document.querySelector('#' + key);\n",
              "        const charts = await google.colab.kernel.invokeFunction(\n",
              "            'suggestCharts', [key], {});\n",
              "      }\n",
              "    </script>\n",
              "\n",
              "      <script>\n",
              "\n",
              "function displayQuickchartButton(domScope) {\n",
              "  let quickchartButtonEl =\n",
              "    domScope.querySelector('#df-1452a601-790f-427a-b66d-e06fa0c88647 button.colab-df-quickchart');\n",
              "  quickchartButtonEl.style.display =\n",
              "    google.colab.kernel.accessAllowed ? 'block' : 'none';\n",
              "}\n",
              "\n",
              "        displayQuickchartButton(document);\n",
              "      </script>\n",
              "      <style>\n",
              "    .colab-df-container {\n",
              "      display:flex;\n",
              "      flex-wrap:wrap;\n",
              "      gap: 12px;\n",
              "    }\n",
              "\n",
              "    .colab-df-convert {\n",
              "      background-color: #E8F0FE;\n",
              "      border: none;\n",
              "      border-radius: 50%;\n",
              "      cursor: pointer;\n",
              "      display: none;\n",
              "      fill: #1967D2;\n",
              "      height: 32px;\n",
              "      padding: 0 0 0 0;\n",
              "      width: 32px;\n",
              "    }\n",
              "\n",
              "    .colab-df-convert:hover {\n",
              "      background-color: #E2EBFA;\n",
              "      box-shadow: 0px 1px 2px rgba(60, 64, 67, 0.3), 0px 1px 3px 1px rgba(60, 64, 67, 0.15);\n",
              "      fill: #174EA6;\n",
              "    }\n",
              "\n",
              "    [theme=dark] .colab-df-convert {\n",
              "      background-color: #3B4455;\n",
              "      fill: #D2E3FC;\n",
              "    }\n",
              "\n",
              "    [theme=dark] .colab-df-convert:hover {\n",
              "      background-color: #434B5C;\n",
              "      box-shadow: 0px 1px 3px 1px rgba(0, 0, 0, 0.15);\n",
              "      filter: drop-shadow(0px 1px 2px rgba(0, 0, 0, 0.3));\n",
              "      fill: #FFFFFF;\n",
              "    }\n",
              "  </style>\n",
              "\n",
              "      <script>\n",
              "        const buttonEl =\n",
              "          document.querySelector('#df-6c261b06-7cc4-45b7-8504-ff52e533975e button.colab-df-convert');\n",
              "        buttonEl.style.display =\n",
              "          google.colab.kernel.accessAllowed ? 'block' : 'none';\n",
              "\n",
              "        async function convertToInteractive(key) {\n",
              "          const element = document.querySelector('#df-6c261b06-7cc4-45b7-8504-ff52e533975e');\n",
              "          const dataTable =\n",
              "            await google.colab.kernel.invokeFunction('convertToInteractive',\n",
              "                                                     [key], {});\n",
              "          if (!dataTable) return;\n",
              "\n",
              "          const docLinkHtml = 'Like what you see? Visit the ' +\n",
              "            '<a target=\"_blank\" href=https://colab.research.google.com/notebooks/data_table.ipynb>data table notebook</a>'\n",
              "            + ' to learn more about interactive tables.';\n",
              "          element.innerHTML = '';\n",
              "          dataTable['output_type'] = 'display_data';\n",
              "          await google.colab.output.renderOutput(dataTable, element);\n",
              "          const docLink = document.createElement('div');\n",
              "          docLink.innerHTML = docLinkHtml;\n",
              "          element.appendChild(docLink);\n",
              "        }\n",
              "      </script>\n",
              "    </div>\n",
              "  </div>\n"
            ]
          },
          "metadata": {},
          "execution_count": 2
        }
      ]
    },
    {
      "cell_type": "markdown",
      "source": [
        "# Part 01: Data Cleaning & Pre-processing"
      ],
      "metadata": {
        "id": "Ui91IffAoqVM"
      }
    },
    {
      "cell_type": "markdown",
      "source": [
        "## Check for Duplicates\n",
        "\n",
        "- We can find duplicates in the dataset using `duplicated()` function."
      ],
      "metadata": {
        "id": "0qxN6QkkCCVH"
      }
    },
    {
      "cell_type": "code",
      "source": [
        "# find duplicates\n"
      ],
      "metadata": {
        "id": "bWZ2awn4nkL_"
      },
      "execution_count": null,
      "outputs": []
    },
    {
      "cell_type": "markdown",
      "source": [
        "- Try to use `subset=` parameter to find duplicates based on `age`, `job` ,`marital`, `education`, `housing`, and `loan`.\n",
        "\n",
        "- This combination will be important later to find a specific customer."
      ],
      "metadata": {
        "id": "lXSqF9TRCm2s"
      }
    },
    {
      "cell_type": "code",
      "source": [
        "# Find duplicates based on columns combination: \"age\", \"job\" ,\"marital\", \"education\", \"housing\", \"loan\"\n"
      ],
      "metadata": {
        "id": "e7ceZ1mW5-fV"
      },
      "execution_count": null,
      "outputs": []
    },
    {
      "cell_type": "markdown",
      "source": [
        "- Try to take a peek on the duplicates based on columns combination: `age`, `job` ,`marital`, `education`, `housing`, and `loan`.\n",
        "\n",
        "- Why are they duplicated? Is it pure data duplication (an error) or could there be other explanation?"
      ],
      "metadata": {
        "id": "-QMMq_pMDHug"
      }
    },
    {
      "cell_type": "code",
      "source": [
        "# take a peek on the duplicate cases\n"
      ],
      "metadata": {
        "id": "yZ8ZRMecDu2q"
      },
      "execution_count": null,
      "outputs": []
    },
    {
      "cell_type": "code",
      "source": [
        "# Take one value combination and take a peek at the data\n",
        "\n",
        "df[(df[\"age\"]==41) &\n",
        "   ]"
      ],
      "metadata": {
        "id": "8HaFC4KZE2dq"
      },
      "execution_count": null,
      "outputs": []
    },
    {
      "cell_type": "markdown",
      "source": [
        "- There seems to be no duplicates that would harm our analyses. For now, we can move on to the next step."
      ],
      "metadata": {
        "id": "MKY6XIODiyti"
      }
    },
    {
      "cell_type": "markdown",
      "source": [
        "## Check Unique Values\n",
        "\n",
        "- Check unique values of some columns using `.unique()` and `.value_counts()` function"
      ],
      "metadata": {
        "id": "zjjc2WKeF1Gv"
      }
    },
    {
      "cell_type": "code",
      "source": [
        "# Check unique values of `contact` column\n"
      ],
      "metadata": {
        "id": "_wKH75IkpETB"
      },
      "execution_count": null,
      "outputs": []
    },
    {
      "cell_type": "code",
      "source": [
        "# value counts\n"
      ],
      "metadata": {
        "id": "lj3i3vWQpTSN"
      },
      "execution_count": null,
      "outputs": []
    },
    {
      "cell_type": "code",
      "source": [
        "# Check unique values of `month` column\n"
      ],
      "metadata": {
        "id": "BEtDicPopXDA"
      },
      "execution_count": null,
      "outputs": []
    },
    {
      "cell_type": "code",
      "source": [
        "# value counts\n"
      ],
      "metadata": {
        "id": "jA_MGOloqLRX"
      },
      "execution_count": null,
      "outputs": []
    },
    {
      "cell_type": "code",
      "source": [
        "# Check unique values of `day_of_week` column\n"
      ],
      "metadata": {
        "id": "aTF6UyuesVR4"
      },
      "execution_count": null,
      "outputs": []
    },
    {
      "cell_type": "code",
      "source": [
        "# value counts\n"
      ],
      "metadata": {
        "id": "ST1sri-wGTuo"
      },
      "execution_count": null,
      "outputs": []
    },
    {
      "cell_type": "markdown",
      "source": [
        "- Chcek for missing value using `.isna()` or `.isnull()` function"
      ],
      "metadata": {
        "id": "jPvnMsDFGOD7"
      }
    },
    {
      "cell_type": "code",
      "source": [
        "# Check for missing values\n"
      ],
      "metadata": {
        "id": "Fl0Iw4vWsV5a"
      },
      "execution_count": null,
      "outputs": []
    },
    {
      "cell_type": "markdown",
      "source": [
        "## Checking for Outliers\n",
        "\n",
        "\n",
        "- Stakeholders inform us that we need to check if we need to exclude outliers based on age. To do this, we need to explore the distribution of the `age` column.\n",
        "\n",
        "\n",
        "- For the first step, get qucik statistic of the `age` column using `.describe()`\n",
        "\n"
      ],
      "metadata": {
        "id": "rUmcjXOxLVKI"
      }
    },
    {
      "cell_type": "code",
      "source": [
        "# Get quick statistict of the column `age`\n"
      ],
      "metadata": {
        "id": "UsDoQZvViH78"
      },
      "execution_count": null,
      "outputs": []
    },
    {
      "cell_type": "markdown",
      "source": [
        "- Use `np.percentile()` to get 5th and 95th percentile"
      ],
      "metadata": {
        "id": "9mTaueIgnRG6"
      }
    },
    {
      "cell_type": "code",
      "source": [
        "# Get the average value\n",
        "print(\"average : \", np.mean(df[\"age\"]))\n",
        "\n",
        "# Get the 5th, 50th, and 95th percentile value\n",
        "print(\"5th percentile : \", np.percentile(df[\"age\"], 5))\n"
      ],
      "metadata": {
        "id": "Cx4X8RNtnGMT"
      },
      "execution_count": null,
      "outputs": []
    },
    {
      "cell_type": "markdown",
      "source": [
        "- Now we should check the distribution visually by creating a histogram for the `age` column.\n",
        "\n",
        "- You can use `seaborn` or `pyplot`, your choice!\n",
        "\n",
        "- Play around with the `bins` parameter to help explore the data.\n",
        "\n",
        "- You can also use `ax.axvline()` to put a line on the graph to help us understand where the average, 5th, 50th, and 95th percentile is. Don't forget to define `fig, ax` first!\n",
        "\n",
        "- How much data do you think we will lose if we filter out `age < 5th percentile` and `age > 95th percentile`. Is it worth the filter?\n"
      ],
      "metadata": {
        "id": "vt_L4LhJjIT9"
      }
    },
    {
      "cell_type": "code",
      "source": [
        "# Create histogram for the `age` column\n",
        "\n",
        "fig, ax =  plt.subplots()\n",
        "\n",
        "\n",
        "\n",
        "# Put a line for average value\n",
        "ax.axvline(x=np.mean(df[\"age\"]), c=\"green\", linestyle=\"--\")\n",
        "\n",
        "# Put a line for 5th, 50th, and 95th percentile value\n",
        "\n",
        "# Show the plot\n"
      ],
      "metadata": {
        "id": "rH8e7s1czaAU"
      },
      "execution_count": null,
      "outputs": []
    },
    {
      "cell_type": "markdown",
      "source": [
        "- Now that you've mastered creating a histogram, why not try creating a boxplot?\n",
        "\n",
        "- What type of different insight do you think you can get from a boxplot?"
      ],
      "metadata": {
        "id": "h-wtnrQBlT0p"
      }
    },
    {
      "cell_type": "code",
      "source": [
        "# Create boxplot for the `age` column\n",
        "\n",
        "\n",
        "# Put a line for average value\n",
        "\n",
        "\n",
        "# Put a line for 5th, and 95th percentile value\n",
        "\n",
        "\n",
        "# Show the plot\n"
      ],
      "metadata": {
        "id": "bVz_Ow77zn1E"
      },
      "execution_count": null,
      "outputs": []
    },
    {
      "cell_type": "markdown",
      "source": [
        "- It does not seem like there is any proof that the outlier will interfere with our analysis since:\n",
        "  1. The outlier is not skewing the data dsitribution too much. This can be seen by comparing the median and average value. For a more exact confirmation for this, you can further check the skewness value.\n",
        "  2. There are a lot of outliers, but the moajority of the data can still be considered to be distributed normally. We might lose important information if we decide to filter out the outliers."
      ],
      "metadata": {
        "id": "eZfrr6tizJ4P"
      }
    },
    {
      "cell_type": "markdown",
      "source": [
        "## Adding Customer ID\n",
        "\n",
        "- Now let's make a unique identifier for each customer.\n",
        "\n",
        "\n",
        "- In the bank marketing dataset, each row represents one instance of a contact made with a customer rather than one customer ID.\n",
        "\n",
        "- Therefore, there can be multiple rows with the same customer ID, indicating multiple contacts made with the same customer.\n",
        "\n",
        "- The customer ID is not explicitly mentioned, you need to create it on your own.\n",
        "\n",
        "- You can use a combination of `age`, `job`, `marital`, `education`, `housing`, and `loan` columns to create a unique identifier for each customer."
      ],
      "metadata": {
        "id": "jU3Cw8UR1tnC"
      }
    },
    {
      "cell_type": "markdown",
      "source": [
        "- You can use `.astype(str)` to first make sure that the column's data type is string, and then use `+` to stitch strings together.\n",
        "\n",
        "- Put the result in a new column called `customer_id`."
      ],
      "metadata": {
        "id": "WjzdlQyMKRkC"
      }
    },
    {
      "cell_type": "code",
      "source": [
        "# Add customer ID\n",
        "\n",
        "df[\"customer_id\"] = df[\"age\"].astype(str) + '_'\n",
        "\n",
        "# Show first 5 rows\n",
        "df.head()"
      ],
      "metadata": {
        "id": "QXGCAd5i1VPn"
      },
      "execution_count": null,
      "outputs": []
    },
    {
      "cell_type": "markdown",
      "source": [
        "- Check unique `customer_id` using `.nunique()`"
      ],
      "metadata": {
        "id": "W2W_FebBK1pN"
      }
    },
    {
      "cell_type": "code",
      "source": [],
      "metadata": {
        "id": "RUlTEhzU1dXi"
      },
      "execution_count": null,
      "outputs": []
    },
    {
      "cell_type": "markdown",
      "source": [
        "# Part 02: Calculate Engagement Metrics"
      ],
      "metadata": {
        "id": "MwL8OHBm60BO"
      }
    },
    {
      "cell_type": "markdown",
      "source": [
        "Relevant variables for analysis\n",
        "1. `contact`: The contact communication type (e.g., cellular, telephone).\n",
        "2. `month`: The month of the last contact with the customer.\n",
        "3. `day_of_week`: The day of the week of the last contact.\n",
        "4. `duration`: The duration of the last contact in seconds.\n",
        "5. `campaign`: The number of contacts performed as part of a specific marketing campaign for the customer.\n",
        "6. `previous`: The number of contacts made with the customer before the current campaign.\n",
        "7. `poutcome`: The outcome of the previous marketing campaign (e.g., success, failure, unknown).\n",
        "8. `education`: The customer's education level.\n",
        "9. `job`: The customer's occupation or job category.\n",
        "10. `age`: The customer's age.\n",
        "11. `marital`: The customer's marital status.\n",
        "12. `housing`: The type of housing the customer has (e.g., own, rent, unknown)."
      ],
      "metadata": {
        "id": "gBJ3swNp7Ck9"
      }
    },
    {
      "cell_type": "markdown",
      "source": [
        "## Contact Frequency\n",
        "   - Total number of contacts made by each customer.\n",
        "   - Count the number of contacts made to each customer in the bank marketing datasetby type of contact.\n",
        "   - Use `.groupby()` to do calculation grouped by certain columns.\n",
        "   - Use `.size()` to quickly aggregate the number of row.\n",
        "   - You can call it `channel_usage_freq` but you can also choose your own DataFrame name."
      ],
      "metadata": {
        "id": "W2pFzaZ-8_EL"
      }
    },
    {
      "cell_type": "code",
      "source": [
        "# group by `customer_id` and `contact`\n",
        "channel_usage_freq =\n",
        "\n",
        "# rename column to be called `count`\n",
        "pd.DataFrame(channel_usage_freq).rename(columns={0:\"count\"})\n",
        "\n",
        "# sort values descending by the `count` column\n",
        "\n",
        "\n",
        "# show the top 5 data\n"
      ],
      "metadata": {
        "id": "zh35cwcd6sfG"
      },
      "execution_count": null,
      "outputs": []
    },
    {
      "cell_type": "markdown",
      "source": [
        "- Show the `count` column distribution."
      ],
      "metadata": {
        "id": "OdPYdGXvulPW"
      }
    },
    {
      "cell_type": "code",
      "source": [],
      "metadata": {
        "id": "9ZjqLXmsthOm"
      },
      "execution_count": null,
      "outputs": []
    },
    {
      "cell_type": "markdown",
      "source": [
        "- Find contact frequency for each customer.\n",
        "\n",
        "- Save it to a DataFrame called `contact_frequency`."
      ],
      "metadata": {
        "id": "h3NmPIwbqcoo"
      }
    },
    {
      "cell_type": "code",
      "source": [
        "# group by `customer_id`\n",
        "contact_frequency =\n",
        "\n",
        "# rename column to be called `count`\n",
        "\n",
        "\n",
        "# sort values descending by the `count` column\n"
      ],
      "metadata": {
        "id": "mZI7fFDY9Rqw"
      },
      "execution_count": null,
      "outputs": []
    },
    {
      "cell_type": "markdown",
      "source": [
        "- You know the drill. Boxplot!"
      ],
      "metadata": {
        "id": "I8kw2krB_B5Q"
      }
    },
    {
      "cell_type": "code",
      "source": [],
      "metadata": {
        "id": "VcRTum38_BQr"
      },
      "execution_count": null,
      "outputs": []
    },
    {
      "cell_type": "markdown",
      "source": [
        "## Duration of Contact\n",
        "  - Average or total duration of contacts made by each customer.\n",
        "\n",
        "  - Calculate the average and sum of the duration of contacts for each customer in the dataset. Call it `duration_of_contact`.\n",
        "\n",
        "  - Use `.agg()` function to aggregate a column."
      ],
      "metadata": {
        "id": "R9Q3-dj69F2s"
      }
    },
    {
      "cell_type": "code",
      "source": [
        "# group by `customer_id`\n",
        "duration_of_contact =\n",
        "\n",
        "\n",
        "# show the top 5 data\n"
      ],
      "metadata": {
        "id": "OJ3o3XJM7JQa"
      },
      "execution_count": null,
      "outputs": []
    },
    {
      "cell_type": "markdown",
      "source": [
        "- Challenge yourself to create 2 boxplots in a plot using subplots."
      ],
      "metadata": {
        "id": "udHN26aa_hej"
      }
    },
    {
      "cell_type": "code",
      "source": [
        "fig, ax = plt.subplots(figsize=(16,8), nrows=2)\n",
        "\n",
        "# create 1st plot\n",
        "sns.boxplot(data = duration_of_contact,\n",
        "            x = (\"duration\",\"sum\"), # pay attention to the multiindex column\n",
        "            ax=ax[0]\n",
        "            )\n",
        "\n",
        "# create 2nd plot\n",
        "\n",
        "\n",
        "\n",
        "\n",
        "# Show the plot\n",
        "plt.show()"
      ],
      "metadata": {
        "id": "Jn2IR61k_hOR"
      },
      "execution_count": null,
      "outputs": []
    },
    {
      "cell_type": "markdown",
      "source": [
        "- What can you tell about the data?"
      ],
      "metadata": {
        "id": "sFPtbpCxBHAl"
      }
    },
    {
      "cell_type": "markdown",
      "source": [
        "## Most Frequent Contact\n",
        "  - Preferred banking channels used by the customer.\n",
        "  \n",
        "  - Determine the most frequently used channel by each customer based on contact frequency for each channel.\n",
        "\n",
        "  - Use the `channel_usage_freq` DataFrame you have created before.\n",
        "\n",
        "  - Use `dense rank` to rank each customer's contact frequency."
      ],
      "metadata": {
        "id": "T_FDH4_C-zwy"
      }
    },
    {
      "cell_type": "code",
      "source": [
        "# reset index if needed\n",
        "channel_usage_freq\n",
        "\n",
        "# create a column called `rank` using dense rank\n",
        "channel_usage_freq['rank'] =\n",
        "\n",
        "# Show first 5 rows\n"
      ],
      "metadata": {
        "id": "Corl1cmN-R8M"
      },
      "execution_count": null,
      "outputs": []
    },
    {
      "cell_type": "markdown",
      "source": [
        "- Check for one `customer_id`.\n",
        "\n",
        "- Try to explore other `customer_id`'s as well."
      ],
      "metadata": {
        "id": "Qk-rJELXB358"
      }
    },
    {
      "cell_type": "code",
      "source": [
        "# Check for one `customer_id`\n",
        "\n",
        "channel_usage_freq[channel_usage_freq[\"customer_id\"]==]"
      ],
      "metadata": {
        "id": "ylWXBfKJ_lYO"
      },
      "execution_count": null,
      "outputs": []
    },
    {
      "cell_type": "markdown",
      "source": [
        "- Now, only get `rank = 1` and put it in a new DataFrame called `channel_usage_freq_ranked`. Don't forget to use `.copy()` function!\n",
        "\n",
        "\n",
        "- We do this to make sure that we can reuse the `channel_usage_freq` DataFrame later in the analysis.\n",
        "\n",
        "\n"
      ],
      "metadata": {
        "id": "ZHDROHt4CE_5"
      }
    },
    {
      "cell_type": "code",
      "source": [
        "channel_usage_freq_ranked =\n",
        "\n",
        "# Show first 5 rows\n"
      ],
      "metadata": {
        "id": "qT4_UsHq_8vO"
      },
      "execution_count": null,
      "outputs": []
    },
    {
      "cell_type": "markdown",
      "source": [
        "- Can you make a barplot of the frequency of contact that's ranked 1 for the whole dataset?\n",
        "\n",
        "- Clue: use `sns.countplot()` to quickly do aggregation visual without doing calculation first."
      ],
      "metadata": {
        "id": "HG3FNUXMCl-O"
      }
    },
    {
      "cell_type": "code",
      "source": [
        "# show frquency of each value in the `contact` column\n",
        "\n",
        "\n",
        "# show the graph\n"
      ],
      "metadata": {
        "id": "Wz28nAU3CzIz"
      },
      "execution_count": null,
      "outputs": []
    },
    {
      "cell_type": "markdown",
      "source": [
        "## Campaign Conversion Rate\n",
        "\n",
        "- Rate at which customers respond yes to marketing campaigns.\n",
        "\n",
        "- Divide the number of customers who responded yes to a specific marketing campaign by the total number of customers targeted for that campaign.\n",
        "\n",
        "\n",
        "- First, we need to know the number of unique `customer_id` per `campaign`.\n",
        "\n",
        "- - Name the result column to be `unique_cust_cnt`."
      ],
      "metadata": {
        "id": "ZlBZglrmEvk5"
      }
    },
    {
      "cell_type": "code",
      "source": [
        "# find unique customer_id per campaign\n",
        "campaign_unique_cust =\n",
        "\n",
        "\n",
        "# properly rename the result column to be `unique_cust_cnt`\n",
        "\n",
        "\n",
        "\n",
        "# Check first 5 data\n"
      ],
      "metadata": {
        "id": "qtZsImFDFIXh"
      },
      "execution_count": null,
      "outputs": []
    },
    {
      "cell_type": "markdown",
      "source": [
        "- Now we need to find unique `customer_id` that responded to the campaign.\n",
        "\n",
        "- We can do this by first finding unique `customer_id` per `campaign` and `y`.\n",
        "\n",
        "- Save it into a DataFrame called `campaign_respond_unique_cust`.\n",
        "\n",
        "\n",
        "- Name the result column to be `unique_respond_cust_cnt`."
      ],
      "metadata": {
        "id": "XtKMsU5nFQ7D"
      }
    },
    {
      "cell_type": "code",
      "source": [
        "# find unique customer_id per campaign and y\n",
        "campaign_respond_unique_cust =\n",
        "\n",
        "# properly rename the result column to be `unique_respond_cust_cnt`\n",
        "\n",
        "\n",
        "# Check first 5 data\n"
      ],
      "metadata": {
        "id": "gi0yPd1_F6w5"
      },
      "execution_count": null,
      "outputs": []
    },
    {
      "cell_type": "markdown",
      "source": [
        "- We can then combine the 2 DataFrame by merging them together using `.merge()`.\n",
        "\n",
        "- Pay attention to the result of the merge and the variables we merge them on.\n",
        "\n",
        "- Call the result `campaign_conv_rate`."
      ],
      "metadata": {
        "id": "EJT-_a5MF-7e"
      }
    },
    {
      "cell_type": "code",
      "source": [
        "# Merge campaign_respond_unique_cust and campaign_unique_cust by the index\n",
        "campaign_conv_rate =\n",
        "\n",
        "# Check first 5 data\n"
      ],
      "metadata": {
        "id": "iVKCS4G6GhBj"
      },
      "execution_count": null,
      "outputs": []
    },
    {
      "cell_type": "markdown",
      "source": [
        "- With some Pandas slicing and magic, we can find the campaign conversion rate by dividing the number of unique customer who responded to the campaign (`responded_customer` from `campaign_respond_unique_cust`) with the total number of customer targeted by each campaign (`total_customer` from `campaign_unique_cust`).\n",
        "\n",
        "- First, create new DataFrame called `campaign_conv_rate_responded` to keep the old DataFrame save. But only get the rows where `y = yes`."
      ],
      "metadata": {
        "id": "AYFo3sgLGbzI"
      }
    },
    {
      "cell_type": "code",
      "source": [
        "# Create new DataFrame to keep the old DataFrame save. But only get the rows where `y = yes`\n",
        "campaign_conv_rate_responded =\n",
        "\n",
        "\n",
        "# rename the columns\n",
        "campaign_conv_rate_responded.rename()\n",
        "\n",
        "# get conversion rate\n",
        "campaign_conv_rate_responded[\"campaign_conversion_rate\"]\n",
        "\n",
        "# show result\n"
      ],
      "metadata": {
        "id": "DuOnCOitKFDK"
      },
      "execution_count": null,
      "outputs": []
    },
    {
      "cell_type": "markdown",
      "source": [
        "- What visualization do you think would be best to showcase the insight in the conversion rate dataset?"
      ],
      "metadata": {
        "id": "D8NxytuPHIXv"
      }
    },
    {
      "cell_type": "code",
      "source": [
        "fig, ax = plt.subplots(figsize=(16,8), nrows=2)\n",
        "\n",
        "sns.barplot(data = campaign_conv_rate_responded.reset_index(),\n",
        "            x = \"\",\n",
        "            y = \"\",\n",
        "            ax =\n",
        "            )\n",
        "\n",
        "\n",
        "\n",
        "plt.show()"
      ],
      "metadata": {
        "id": "G3m60OdvHQEA"
      },
      "execution_count": null,
      "outputs": []
    },
    {
      "cell_type": "markdown",
      "source": [
        "- What can we tell about this result?"
      ],
      "metadata": {
        "id": "2mNhT9H9I5Te"
      }
    },
    {
      "cell_type": "markdown",
      "source": [
        "## Campaign Engagement\n",
        "  - Number of contacts made as part of each marketing campaign.\n",
        "\n",
        "  - Count the number of contacts made for each customer within each marketing campaign in the dataset.\n",
        "\n",
        "  - Save the result into a DataFrame called `campaign_engagement`."
      ],
      "metadata": {
        "id": "ihfelKScYGHT"
      }
    },
    {
      "cell_type": "code",
      "source": [
        "# find number of row per customer_id per campaign and y\n",
        "campaign_engagement =\n",
        "\n",
        "# properly rename the result column to be `count`\n",
        "\n",
        "\n",
        "# reset index\n",
        "\n",
        "\n",
        "# sort values by `count`\n"
      ],
      "metadata": {
        "id": "mNgwDBLMLpX-"
      },
      "execution_count": null,
      "outputs": []
    },
    {
      "cell_type": "markdown",
      "source": [
        "- Try the code below to quickly see the `count` distribution for each campaign."
      ],
      "metadata": {
        "id": "POwBMy1wO8HK"
      }
    },
    {
      "cell_type": "code",
      "source": [
        "sns.catplot(data = campaign_engagement,\n",
        "            x= \"\",\n",
        "            kind= \"box\",\n",
        "            col= \"\", # drawing each campaign into 1 plot\n",
        "            col_wrap = 8, # creating 4 columns\n",
        "            sharex = False   #to make each graph not to share x axis scale\n",
        "            # showfliers = False  # This parameter controls if we want to show outliers or not\n",
        "            )\n",
        "\n",
        "plt.show()"
      ],
      "metadata": {
        "id": "_KqC13v4LYEf"
      },
      "execution_count": null,
      "outputs": []
    },
    {
      "cell_type": "markdown",
      "source": [
        "- What can you tell us about the data above?"
      ],
      "metadata": {
        "id": "js1oFb-wPlDl"
      }
    },
    {
      "cell_type": "markdown",
      "source": [
        "# End of Notebook"
      ],
      "metadata": {
        "id": "zB9LxrbWPsa5"
      }
    }
  ]
}